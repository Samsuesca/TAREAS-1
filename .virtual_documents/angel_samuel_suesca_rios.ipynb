





import stata_setup
stata_setup.config("/usr/local/stata17/", "mp")






















































































!pwd


%%stata
frame change default
use "/home/samsuesca/curso/Notebooks/cps09mar.dta", clear
desc


%%stata
*create variables as needed
cap gen Y = inlist(marital,1,2,3)
cap gen white = (race==1)
cap gen black = (race==2)

// check if variables are correctly created
*ta marital Y
*ta race white
*ta race black


%%stata
ta education female


%%stata
qui logit Y c.age#c.age education white black if female==0, robust
qui logit Y c.age#c.age white black if female==0, robust
cap drop fitted_prob
predict fitted_prob, pr





%%stata
*Consider the sample proportion of being married:

qui sum Y if female == 0 
di in red "The sample proportion of being married is: `r(mean)'"

qui sum fitted_prob if female == 0
di in red "The average fitted probability is: `r(mean)'"














%%stata
*qui logit Y c.age#c.age white black education if female==0, robust
qui logit Y c.age#c.age race education if female==0, robust
qui sum age 
local min_age `r(min)'
local max_age `r(max)'
di "min age: `min_age' and max age: `max_age'"
qui sum educ
local min_educ `r(min)'
local max_educ `r(max)'

qui margins, dydx(educ) at(education=(`min_educ'(1)`max_educ') race = 1  age=(`min_age'(1)`max_age')) saving(predictions_white, replace)

qui margins, dydx(educ) at(education=(`min_educ'(1)`max_educ') race = 2  age=(`min_age'(1)`max_age')) saving(predictions_black, replace)


%%stata
cap frame create pred 
frame change pred
use "/home/samsuesca/curso/Notebooks/predictions_white.dta", clear

rename _at1 age
rename _at3 education
rename _margin pr_inlf
save "/home/samsuesca/curso/Notebooks/predictions_white.dta", replace


use "/home/samsuesca/curso/Notebooks/predictions_black.dta", clear
rename _at1 age
rename _at3 education
rename _margin pr_inlf
save "/home/samsuesca/curso/Notebooks/predictions_black.dta", replace

frame change default


# Import the necessary Python packages
import numpy as np
import pandas as pd
import matplotlib.pyplot as plt

# Read (import) the Stata datasets into pandas data frames
data_white = pd.read_stata("/home/samsuesca/curso/Notebooks/predictions_white.dta")
data_black = pd.read_stata("/home/samsuesca/curso/Notebooks/predictions_black.dta")

# Crear una figura con dos subplots 3D
fig = plt.figure(figsize=(14, 7))

# Primer subplot para 'predictions_white'
ax1 = fig.add_subplot(121, projection='3d')
ax1.view_init(elev=25, azim=130)
surf_white = ax1.plot_trisurf(data_white['education'], data_white['age'], data_white['pr_inlf'], 
                              cmap=plt.cm.Spectral_r, alpha=0.7)

# Personalizar el primer subplot
ax1.set_title("Predictions for White", fontsize=14)
ax1.set_xlabel("Education (years)", fontsize=12)
ax1.set_ylabel("Age", fontsize=12)
ax1.set_zlabel(r"$\widehat{\delta}_{educ}$", fontsize=12)
ax1.set_xticks(np.arange(0, 20, step=2))
ax1.set_yticks(np.arange(15, 85, step=15))
ax1.set_zticks(np.arange(0, 0.05, step=0.02))

# Segundo subplot para 'predictions_black'
ax2 = fig.add_subplot(122, projection='3d')
ax2.view_init(elev=25, azim=130)
surf_black = ax2.plot_trisurf(data_black['education'], data_black['age'], data_black['pr_inlf'], 
                              cmap=plt.cm.coolwarm, alpha=0.7)

# Personalizar el segundo subplot
ax2.set_title("Predictions for Black", fontsize=14)
ax2.set_xlabel("Education (years)", fontsize=12)
ax2.set_ylabel("Age", fontsize=12)
ax2.set_zlabel(r"$\widehat{\delta}_{educ}$", fontsize=12)
ax2.set_xticks(np.arange(0, 20, step=2))
ax2.set_yticks(np.arange(15, 85, step=15))
ax2.set_zticks(np.arange(0, 0.05, step=0.02))

# Ajustar espacio entre los subplots
plt.tight_layout()
# Save the graph as a PNG image
plt.savefig("Margins3d_comparison.png")

# Show the plot
plt.show()









%%stata
cap frame change default
qui logit Y c.age#c.age education white black if female==0, robust
margins, dydx(educ) at(age=45 white=1)





%%stata
qui logit Y c.age#c.age education white black if female==1, robust
margins, dydx(educ) at(age=45 white=1)





%%stata
qui logit Y c.age#c.age education white black female, robust
margins, dydx(educ) at(age=45 white=1 female=(0(1)1))
margins, dydx(educ) at(age=45 white=1)














%%stata
qui logit Y c.age#c.age education white black if female==0, robust
margins, dydx(white) atmeans


%%stata
qui logit Y c.age#c.age education white black if female==0, robust
margins, dydx(black) atmeans











%%stata
use "/home/samsuesca/curso/Notebooks/CHJ2004", clear
*desc
replace tinkind = tinkind / 1000
replace income = income /1000

gen indicator_income = (income > 1)
*ta indicator_income 
*sum income,d
*mdesc income
gen Dincome = (income-1)*indicator_income
*bys indicator_income: sum Dincome






%%stata
reg tinkind income Dincome











%%stata
cap gen censored = (tinkind==0)


ta censored
qui sum censored,d 
local mean =`r(mean)'*100
di "The percentages of censored observations are `mean' "











%%stata
count if tinkind > 0
reg tinkind income Dincome if tinkind > 0








%%stata
qui tobit tinkind income, ll(0) vce(robust)
margins, dydx(income)



%%stata
qui truncreg tinkind income, ll(0) vce(robust) nocons
margins, dydx(income)
































































































